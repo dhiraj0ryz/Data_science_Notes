{
 "cells": [
  {
   "attachments": {},
   "cell_type": "markdown",
   "metadata": {},
   "source": [
    "## Introduction to Python\n"
   ]
  },
  {
   "attachments": {},
   "cell_type": "markdown",
   "metadata": {},
   "source": [
    " # BODMAS  \n",
    " An operator working behind the scoreboard of a inter cohort AlmaBetter cricket tournament, is responsible for updating the scores and points of each team. However, the operator is currently facing a challenge. He has been tasked with updating the total number of points gained by Team London, but he does not possess the necessary programming skills to complete this task. According to the tournament's rules, teams are awarded the following points based on the outcome of a match:\n",
    "\n",
    "wins: 3 points\n",
    "draws: 1 point\n",
    "losses: 0 points\n",
    "Team London has played 9 matches in this tournament. They won 6 matches, lost 2 matches and drew 1. The operator is in need of assistance to calculate the total number of points earned by Team London. As a python expert adept with knowledge of integer, floats and boolean, you can help the operator by writing a solution for the following problem.\n",
    "\n",
    "What would your approach be?"
   ]
  },
  {
   "cell_type": "code",
   "execution_count": 3,
   "metadata": {},
   "outputs": [
    {
     "name": "stdout",
     "output_type": "stream",
     "text": [
      "19\n"
     ]
    }
   ],
   "source": [
    "wins = 3 \n",
    "draws = 1 \n",
    "losses = 0 \n",
    "\n",
    "london_points = wins*6 + draws*1 + losses*0\n",
    "\n",
    "print(london_points)"
   ]
  },
  {
   "attachments": {},
   "cell_type": "markdown",
   "metadata": {},
   "source": [
    "# Rules for naming a variable in Python\n",
    "* Variables names must start with a letter or an underscore like _ product , product_\n",
    "* The remainder of your variable name may consist of letters, numbers and underscores\n",
    "* spacy1, pyThon,machine_learning are some valid variable names\n",
    "* Names are case sensitive.\n",
    "* case_sensitive, CASE_SENSITIVE, and Case_Sensitive are each a different variable.\n",
    "* It's a best practice to create a variable that should be coherent with the context you are working on. Let's say you are working with fruit data; the variable name should be \"fruit\" or \"fruit_mango.\""
   ]
  },
  {
   "attachments": {},
   "cell_type": "markdown",
   "metadata": {},
   "source": [
    "# Booleans\n",
    "\n",
    "In real life, we often make decisions based on whether something is true or false. For example, if it's raining outside, we might decide to take an umbrella. In programming, we use Booleans to make decisions too! We can write code that checks if something is true or false and then does something based on the answer.\n",
    "\n",
    "In the table below, Assume a=3 and b=4.\n",
    "Operator\tDescription\tExample\n",
    "\n",
    "(a == b) is not true.\n",
    "(a != b) is true\n",
    "(a > b) is not true.\n",
    "(a < b) is true.\n",
    "(a >= b) is not true.\n",
    "(a <= b) is true.\n",
    "\n"
   ]
  },
  {
   "attachments": {},
   "cell_type": "markdown",
   "metadata": {},
   "source": [
    "# Data Types in Python\n",
    "As we move forward, we'll be exploring the basics of various data structures in Python, including:\n",
    "\n",
    "🧵 Strings: How to create and manipulate text data in Python. (It is immutable)\n",
    "\n",
    "📜 Lists: How to store and organize collections of items in Python.\n",
    "\n",
    "🔄 Tuples: How to create and use immutable sequences of data.\n",
    "\n",
    "🆚 Sets: How to work with collections of unique items in Python.\n",
    "\n",
    "📚 Dictionaries: How to create and use key-value mappings in Python.\n",
    "\n",
    "🔍 By the end of our journey, we'll have a solid understanding of how these data structures work, and we'll be able to use them effectively in our Python programs. So let's dive in and start exploring!"
   ]
  },
  {
   "attachments": {},
   "cell_type": "markdown",
   "metadata": {},
   "source": [
    "Finding total 'e's in the Bookshelves\n",
    "\n",
    "In your pursuit of expanding your knowledge of Python, you come across a bookstore in search of books on the subject.\n",
    "\n",
    "There, you meet a salesperson who is also a Python enthusiast!!\n",
    "\n",
    "The salesperson presents you with a challenge - they have a list of five books related to Python and if you can write a program that finds the total number of letter 'e' in the list of books, the store will give you a free book of your choice. 😀\n",
    "\n",
    "Are you ready to accept the challenge? 💪"
   ]
  },
  {
   "cell_type": "code",
   "execution_count": 4,
   "metadata": {},
   "outputs": [
    {
     "name": "stdout",
     "output_type": "stream",
     "text": [
      "The total number of 'e's in the list of books is 7\n"
     ]
    }
   ],
   "source": [
    "books = \"Python for Everyone, Learn Python the Hard Way, Python Crash Course , Starting Out with Python, Automate the Boring Stuff with Python\"\n",
    "e_counts = books.count('e')\n",
    "print(f\"The total number of 'e's in the list of books is {e_counts}\")"
   ]
  },
  {
   "attachments": {},
   "cell_type": "markdown",
   "metadata": {},
   "source": [
    "# List\n",
    "Lists can be thought of the most general version of a sequence in Python.\n",
    "Lists are constructed with brackets [] and commas separating every element in the list.\n",
    "Lists are mutable, which means that you can modify them after you've created them."
   ]
  },
  {
   "attachments": {},
   "cell_type": "markdown",
   "metadata": {},
   "source": []
  }
 ],
 "metadata": {
  "kernelspec": {
   "display_name": "Python 3",
   "language": "python",
   "name": "python3"
  },
  "language_info": {
   "codemirror_mode": {
    "name": "ipython",
    "version": 3
   },
   "file_extension": ".py",
   "mimetype": "text/x-python",
   "name": "python",
   "nbconvert_exporter": "python",
   "pygments_lexer": "ipython3",
   "version": "3.11.3"
  },
  "orig_nbformat": 4
 },
 "nbformat": 4,
 "nbformat_minor": 2
}
