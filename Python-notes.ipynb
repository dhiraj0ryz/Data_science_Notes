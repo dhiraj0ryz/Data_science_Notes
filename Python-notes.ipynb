{
 "cells": [
  {
   "attachments": {},
   "cell_type": "markdown",
   "metadata": {},
   "source": [
    "## Introduction to Python\n"
   ]
  },
  {
   "attachments": {},
   "cell_type": "markdown",
   "metadata": {},
   "source": [
    " # BODMAS  \n",
    " An operator working behind the scoreboard of a inter cohort AlmaBetter cricket tournament, is responsible for updating the scores and points of each team. However, the operator is currently facing a challenge. He has been tasked with updating the total number of points gained by Team London, but he does not possess the necessary programming skills to complete this task. According to the tournament's rules, teams are awarded the following points based on the outcome of a match:\n",
    "\n",
    "wins: 3 points\n",
    "draws: 1 point\n",
    "losses: 0 points\n",
    "Team London has played 9 matches in this tournament. They won 6 matches, lost 2 matches and drew 1. The operator is in need of assistance to calculate the total number of points earned by Team London. As a python expert adept with knowledge of integer, floats and boolean, you can help the operator by writing a solution for the following problem.\n",
    "\n",
    "What would your approach be?"
   ]
  },
  {
   "cell_type": "code",
   "execution_count": 3,
   "metadata": {},
   "outputs": [
    {
     "name": "stdout",
     "output_type": "stream",
     "text": [
      "19\n"
     ]
    }
   ],
   "source": [
    "wins = 3 \n",
    "draws = 1 \n",
    "losses = 0 \n",
    "\n",
    "london_points = wins*6 + draws*1 + losses*0\n",
    "\n",
    "print(london_points)"
   ]
  },
  {
   "attachments": {},
   "cell_type": "markdown",
   "metadata": {},
   "source": [
    "# Rules for naming a variable in Python\n",
    "\n",
    "* Variables names must start with a letter or an underscore like _ product , product_\n",
    "* The remainder of your variable name may consist of letters, numbers and underscores\n",
    "* spacy1, pyThon,machine_learning are some valid variable names\n",
    "* Names are case sensitive.\n",
    "* case_sensitive, CASE_SENSITIVE, and Case_Sensitive are each a different variable.\n",
    "* It's a best practice to create a variable that should be coherent with the context you are working on. Let's say you are working with fruit data; the variable name should be \"fruit\" or \"fruit_mango.\""
   ]
  },
  {
   "cell_type": "markdown",
   "metadata": {},
   "source": []
  }
 ],
 "metadata": {
  "kernelspec": {
   "display_name": "Python 3",
   "language": "python",
   "name": "python3"
  },
  "language_info": {
   "codemirror_mode": {
    "name": "ipython",
    "version": 3
   },
   "file_extension": ".py",
   "mimetype": "text/x-python",
   "name": "python",
   "nbconvert_exporter": "python",
   "pygments_lexer": "ipython3",
   "version": "3.11.3"
  },
  "orig_nbformat": 4
 },
 "nbformat": 4,
 "nbformat_minor": 2
}
